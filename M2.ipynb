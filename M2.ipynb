{
 "cells": [
  {
   "cell_type": "markdown",
   "metadata": {},
   "source": [
    "##Modulo 34\n"
   ]
  },
  {
   "cell_type": "code",
   "execution_count": 1,
   "metadata": {},
   "outputs": [
    {
     "name": "stdout",
     "output_type": "stream",
     "text": [
      "El valor entero es: 1\n",
      "<class 'str'>\n",
      "El valor del número decimal es: 1.2 \n",
      "<class 'str'>\n",
      "El texto es: hola\n",
      "<class 'str'>\n"
     ]
    }
   ],
   "source": [
    "entero, flot, cadena = input(\"Ingrese un valor entero, uno con puntos decimal y una texto separado por una coma\").split(\",\") \n",
    "\n",
    "print(\"El valor entero es: \"+entero) \n",
    "\n",
    "print(type(entero)) \n",
    "\n",
    "print(\"El valor del número decimal es:\"+flot) \n",
    "\n",
    "print(type(flot)) \n",
    "\n",
    "print(\"El texto es:\"+cadena) \n",
    "\n",
    "print(type(cadena)) "
   ]
  },
  {
   "cell_type": "markdown",
   "metadata": {},
   "source": []
  }
 ],
 "metadata": {
  "kernelspec": {
   "display_name": "Python 3",
   "language": "python",
   "name": "python3"
  },
  "language_info": {
   "codemirror_mode": {
    "name": "ipython",
    "version": 3
   },
   "file_extension": ".py",
   "mimetype": "text/x-python",
   "name": "python",
   "nbconvert_exporter": "python",
   "pygments_lexer": "ipython3",
   "version": "3.12.0"
  }
 },
 "nbformat": 4,
 "nbformat_minor": 2
}
